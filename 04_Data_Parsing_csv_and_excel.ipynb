{
 "cells": [
  {
   "cell_type": "markdown",
   "id": "c09e3301",
   "metadata": {},
   "source": [
    "### CSV and Excel files - Structured Data"
   ]
  },
  {
   "cell_type": "code",
   "execution_count": 1,
   "id": "df249878",
   "metadata": {},
   "outputs": [],
   "source": [
    "import pandas as pd\n",
    "import os\n"
   ]
  },
  {
   "cell_type": "markdown",
   "id": "b097fad4",
   "metadata": {},
   "source": [
    "### CSV Processing"
   ]
  },
  {
   "cell_type": "code",
   "execution_count": 2,
   "id": "5d6f5edb",
   "metadata": {},
   "outputs": [],
   "source": [
    "from langchain_community.document_loaders import CSVLoader\n",
    "from langchain_community.document_loaders import UnstructuredExcelLoader"
   ]
  },
  {
   "cell_type": "code",
   "execution_count": 3,
   "id": "7f27746d",
   "metadata": {},
   "outputs": [
    {
     "name": "stdout",
     "output_type": "stream",
     "text": [
      "CSVLoader\n",
      "✅ Loaded 15 documents one per row\n",
      "Content Preview: product_id: 1\n",
      "product_name: Laptop\n",
      "category: Electronics\n",
      "quantity: 5\n",
      "price: 999.99\n",
      "description: High-performance laptop with 16GB RAM and 512GB SSD.\n",
      "Metadata: {'source': 'data/Inventory_Data.csv', 'row': 0}\n"
     ]
    }
   ],
   "source": [
    "# Method 1: Using CSVLoader\n",
    "print(\"CSVLoader\")\n",
    "\n",
    "try:\n",
    "    csv_loader = CSVLoader(file_path=\"data/Inventory_Data.csv\",encoding='utf-8', csv_args={\"delimiter\": \",\"})\n",
    "    csv_documents = csv_loader.load()\n",
    "    print(f\"✅ Loaded {len(csv_documents)} documents one per row\")\n",
    "    print(f\"Content Preview: {csv_documents[0].page_content[:500]}\")\n",
    "    print(f\"Metadata: {csv_documents[0].metadata}\")\n",
    "except Exception as e:\n",
    "    print(f\"Error loading document: {e}\")"
   ]
  },
  {
   "cell_type": "code",
   "execution_count": 4,
   "id": "278b005b",
   "metadata": {},
   "outputs": [
    {
     "name": "stdout",
     "output_type": "stream",
     "text": [
      "\n",
      " ✅ Custom CSV Processing\n"
     ]
    }
   ],
   "source": [
    "# Method 2: Custom CSV processing for better control\n",
    "\n",
    "print(\"\\n ✅ Custom CSV Processing\")\n",
    "\n",
    "from typing import List\n",
    "from langchain_core.documents import Document\n",
    "\n",
    "def process_csv(filepath:str) -> List[Document]:\n",
    "        df = pd.read_csv(filepath)\n",
    "\n",
    "        documents = []\n",
    "        # One document per row with structured content\n",
    "        for i, row in df.iterrows():\n",
    "            content = \"\\n\".join([f\"{col}: {row[col]}\" for col in df.columns])\n",
    "            metadata = {\"source\": os.path.basename(filepath), \"row_index\": i}\n",
    "            documents.append({\"page_content\": content, \"metadata\": metadata})\n",
    "        return documents\n"
   ]
  },
  {
   "cell_type": "code",
   "execution_count": 5,
   "id": "a83674f3",
   "metadata": {},
   "outputs": [
    {
     "data": {
      "text/plain": [
       "[{'page_content': 'product_id: 1\\nproduct_name: Laptop\\ncategory: Electronics\\nquantity: 5\\nprice: 999.99\\ndescription: High-performance laptop with 16GB RAM and 512GB SSD.',\n",
       "  'metadata': {'source': 'Inventory_Data.csv', 'row_index': 0}},\n",
       " {'page_content': 'product_id: 2\\nproduct_name: Smartphone\\ncategory: Electronics\\nquantity: 10\\nprice: 699.99\\ndescription: Latest model smartphone with 5G and 128GB storage.',\n",
       "  'metadata': {'source': 'Inventory_Data.csv', 'row_index': 1}},\n",
       " {'page_content': 'product_id: 3\\nproduct_name: Desk Chair\\ncategory: Furniture\\nquantity: 3\\nprice: 149.99\\ndescription: Ergonomic office chair with adjustable height.',\n",
       "  'metadata': {'source': 'Inventory_Data.csv', 'row_index': 2}},\n",
       " {'page_content': 'product_id: 4\\nproduct_name: Headphones\\ncategory: Accessories\\nquantity: 8\\nprice: 49.99\\ndescription: Noise-canceling over-ear headphones with long battery life.',\n",
       "  'metadata': {'source': 'Inventory_Data.csv', 'row_index': 3}},\n",
       " {'page_content': 'product_id: 5\\nproduct_name: Table Lamp\\ncategory: Home Decor\\nquantity: 4\\nprice: 29.99\\ndescription: Modern LED table lamp with adjustable brightness.',\n",
       "  'metadata': {'source': 'Inventory_Data.csv', 'row_index': 4}},\n",
       " {'page_content': 'product_id: 6\\nproduct_name: Wireless Mouse\\ncategory: Accessories\\nquantity: 12\\nprice: 24.99\\ndescription: Compact wireless mouse with ergonomic design.',\n",
       "  'metadata': {'source': 'Inventory_Data.csv', 'row_index': 5}},\n",
       " {'page_content': 'product_id: 7\\nproduct_name: Smart TV\\ncategory: Electronics\\nquantity: 2\\nprice: 1499.99\\ndescription: 55-inch 4K smart TV with streaming capabilities.',\n",
       "  'metadata': {'source': 'Inventory_Data.csv', 'row_index': 6}},\n",
       " {'page_content': 'product_id: 8\\nproduct_name: Coffee Table\\ncategory: Furniture\\nquantity: 1\\nprice: 199.99\\ndescription: Sleek wooden coffee table with storage shelf.',\n",
       "  'metadata': {'source': 'Inventory_Data.csv', 'row_index': 7}},\n",
       " {'page_content': 'product_id: 9\\nproduct_name: Bluetooth Speaker\\ncategory: Accessories\\nquantity: 6\\nprice: 79.99\\ndescription: Portable speaker with deep bass and waterproof design.',\n",
       "  'metadata': {'source': 'Inventory_Data.csv', 'row_index': 8}},\n",
       " {'page_content': 'product_id: 10\\nproduct_name: Wall Art\\ncategory: Home Decor\\nquantity: 3\\nprice: 59.99\\ndescription: Abstract canvas print for modern home decor.',\n",
       "  'metadata': {'source': 'Inventory_Data.csv', 'row_index': 9}},\n",
       " {'page_content': 'product_id: 11\\nproduct_name: Tablet\\ncategory: Electronics\\nquantity: 7\\nprice: 399.99\\ndescription: 10-inch tablet with high-resolution display.',\n",
       "  'metadata': {'source': 'Inventory_Data.csv', 'row_index': 10}},\n",
       " {'page_content': 'product_id: 12\\nproduct_name: Office Desk\\ncategory: Furniture\\nquantity: 2\\nprice: 249.99\\ndescription: Spacious desk with built-in cable management.',\n",
       "  'metadata': {'source': 'Inventory_Data.csv', 'row_index': 11}},\n",
       " {'page_content': 'product_id: 13\\nproduct_name: Keyboard\\ncategory: Accessories\\nquantity: 9\\nprice: 39.99\\ndescription: Mechanical keyboard with customizable RGB lighting.',\n",
       "  'metadata': {'source': 'Inventory_Data.csv', 'row_index': 12}},\n",
       " {'page_content': 'product_id: 14\\nproduct_name: Floor Lamp\\ncategory: Home Decor\\nquantity: 5\\nprice: 89.99\\ndescription: Tall floor lamp with dimmable LED lights.',\n",
       "  'metadata': {'source': 'Inventory_Data.csv', 'row_index': 13}},\n",
       " {'page_content': 'product_id: 15\\nproduct_name: Smart Watch\\ncategory: Electronics\\nquantity: 4\\nprice: 199.99\\ndescription: Fitness tracker smartwatch with heart rate monitor.',\n",
       "  'metadata': {'source': 'Inventory_Data.csv', 'row_index': 14}}]"
      ]
     },
     "execution_count": 5,
     "metadata": {},
     "output_type": "execute_result"
    }
   ],
   "source": [
    "process_csv(\"data/Inventory_Data.csv\")"
   ]
  },
  {
   "cell_type": "markdown",
   "id": "ff6e17f1",
   "metadata": {},
   "source": [
    "### Excel Processing"
   ]
  },
  {
   "cell_type": "code",
   "execution_count": 6,
   "id": "f4d4b4a1",
   "metadata": {},
   "outputs": [
    {
     "name": "stdout",
     "output_type": "stream",
     "text": [
      "\n",
      "✅UnstructuredExcelLoader\n",
      "✅ Loaded 1 documents\n",
      "Content Preview: product_id product_name category quantity_sold price quantity_in_stock discount description 1 4K Smart TV Electronics 8 799.99 20 10 55-inch 4K UHD TV with HDR and smart streaming. 2 Wireless Earbuds Accessories 25 99.99 50 15 True wireless earbuds with 20-hour battery life. 3 Dining Chair Furniture 12 89.99 30 5 Modern cushioned chair with sturdy wooden frame. 4 Smart Doorbell Electronics 5 149.99 15 20 Wi-Fi doorbell with 1080p camera and motion detection. 5 Decorative Pillow Home Decor 10 24.\n",
      "Metadata: {'source': 'data/monthly_sales_data_with_stock_discount.xlsx', 'file_directory': 'data', 'filename': 'monthly_sales_data_with_stock_discount.xlsx', 'last_modified': '2025-08-25T02:32:10', 'page_name': 'monthly_sales_data_with_stock_d', 'page_number': 1, 'text_as_html': '<table><tr><td>product_id</td><td>product_name</td><td>category</td><td>quantity_sold</td><td>price</td><td>quantity_in_stock</td><td>discount</td><td>description</td></tr><tr><td>1</td><td>4K Smart TV</td><td>Electronics</td><td>8</td><td>799.99</td><td>20</td><td>10</td><td>55-inch 4K UHD TV with HDR and smart streaming.</td></tr><tr><td>2</td><td>Wireless Earbuds</td><td>Accessories</td><td>25</td><td>99.99</td><td>50</td><td>15</td><td>True wireless earbuds with 20-hour battery life.</td></tr><tr><td>3</td><td>Dining Chair</td><td>Furniture</td><td>12</td><td>89.99</td><td>30</td><td>5</td><td>Modern cushioned chair with sturdy wooden frame.</td></tr><tr><td>4</td><td>Smart Doorbell</td><td>Electronics</td><td>5</td><td>149.99</td><td>15</td><td>20</td><td>Wi-Fi doorbell with 1080p camera and motion detection.</td></tr><tr><td>5</td><td>Decorative Pillow</td><td>Home Decor</td><td>10</td><td>24.99</td><td>40</td><td>0</td><td>Soft cotton pillow with geometric pattern.</td></tr><tr><td>6</td><td>Wireless Charger</td><td>Accessories</td><td>18</td><td>34.99</td><td>60</td><td>10</td><td>Fast-charging pad compatible with multiple devices.</td></tr><tr><td>7</td><td>Coffee Maker</td><td>Electronics</td><td>7</td><td>69.99</td><td>25</td><td>5</td><td>Programmable 12-cup coffee maker with auto shut-off.</td></tr><tr><td>8</td><td>Bookshelf</td><td>Furniture</td><td>4</td><td>199.99</td><td>10</td><td>15</td><td>Tall oak bookshelf with five adjustable shelves.</td></tr><tr><td>9</td><td>Bluetooth Headset</td><td>Accessories</td><td>15</td><td>59.99</td><td>45</td><td>10</td><td>Lightweight headset with noise-canceling microphone.</td></tr><tr><td>10</td><td>Wall Mirror</td><td>Home Decor</td><td>6</td><td>79.99</td><td>20</td><td>0</td><td>Large round mirror with sleek black frame.</td></tr><tr><td>11</td><td>Gaming Console</td><td>Electronics</td><td>3</td><td>399.99</td><td>8</td><td>5</td><td>Next-gen console with 1TB storage and 4K gaming.</td></tr><tr><td>12</td><td>Office Chair</td><td>Furniture</td><td>5</td><td>129.99</td><td>12</td><td>10</td><td>Ergonomic chair with adjustable lumbar support.</td></tr><tr><td>13</td><td>USB-C Hub</td><td>Accessories</td><td>20</td><td>29.99</td><td>70</td><td>20</td><td>Multi-port hub with HDMI and USB 3.0.</td></tr><tr><td>14</td><td>Ceramic Vase</td><td>Home Decor</td><td>8</td><td>44.99</td><td>25</td><td>0</td><td>Handcrafted vase with modern minimalist design.</td></tr><tr><td>15</td><td>Portable Projector</td><td>Electronics</td><td>2</td><td>249.99</td><td>10</td><td>15</td><td>Compact 1080p projector with Wi-Fi streaming.</td></tr></table>', 'languages': ['eng'], 'filetype': 'application/vnd.openxmlformats-officedocument.spreadsheetml.sheet', 'category': 'Table', 'element_id': '9e1f50971966d5e9c03ca9efc8265848'}\n"
     ]
    }
   ],
   "source": [
    "# Method 1: Unstructured Excel Loader\n",
    "print(\"\\n✅UnstructuredExcelLoader\")\n",
    "\n",
    "try:\n",
    "    excel_loader = UnstructuredExcelLoader(file_path=\"data/monthly_sales_data_with_stock_discount.xlsx\", mode=\"elements\")\n",
    "    excel_documents = excel_loader.load()\n",
    "    print(f\"✅ Loaded {len(excel_documents)} documents\")\n",
    "    print(f\"Content Preview: {excel_documents[0].page_content[:500]}\")\n",
    "    print(f\"Metadata: {excel_documents[0].metadata}\")\n",
    "except Exception as e:\n",
    "    print(f\"Error loading document: {e}\")"
   ]
  },
  {
   "cell_type": "code",
   "execution_count": 7,
   "id": "a12d9279",
   "metadata": {},
   "outputs": [
    {
     "name": "stdout",
     "output_type": "stream",
     "text": [
      "\n",
      "Custom Excel Processing\n"
     ]
    }
   ],
   "source": [
    "# Method 2: We can use pandas for more control\n",
    "print(\"\\nCustom Excel Processing\")  \n",
    "\n",
    "def process_excel(filepath:str) -> List[Document]:\n",
    "        df = pd.read_excel(filepath, engine='openpyxl')\n",
    "\n",
    "        documents = []\n",
    "        # One document per row with structured content\n",
    "        for i, row in df.iterrows():\n",
    "            content = \"\\n\".join([f\"{col}: {row[col]}\" for col in df.columns])\n",
    "            metadata = {\"source\": os.path.basename(filepath), \"row_index\": i}\n",
    "            documents.append({\"page_content\": content, \"metadata\": metadata})\n",
    "        return documents"
   ]
  },
  {
   "cell_type": "code",
   "execution_count": 8,
   "id": "ab7bba22",
   "metadata": {},
   "outputs": [
    {
     "data": {
      "text/plain": [
       "[{'page_content': 'product_id: 1\\nproduct_name: 4K Smart TV\\ncategory: Electronics\\nquantity_sold: 8\\nprice: 799.99\\nquantity_in_stock: 20\\ndiscount: 10\\ndescription: 55-inch 4K UHD TV with HDR and smart streaming.',\n",
       "  'metadata': {'source': 'monthly_sales_data_with_stock_discount.xlsx',\n",
       "   'row_index': 0}},\n",
       " {'page_content': 'product_id: 2\\nproduct_name: Wireless Earbuds\\ncategory: Accessories\\nquantity_sold: 25\\nprice: 99.99\\nquantity_in_stock: 50\\ndiscount: 15\\ndescription: True wireless earbuds with 20-hour battery life.',\n",
       "  'metadata': {'source': 'monthly_sales_data_with_stock_discount.xlsx',\n",
       "   'row_index': 1}},\n",
       " {'page_content': 'product_id: 3\\nproduct_name: Dining Chair\\ncategory: Furniture\\nquantity_sold: 12\\nprice: 89.99\\nquantity_in_stock: 30\\ndiscount: 5\\ndescription: Modern cushioned chair with sturdy wooden frame.',\n",
       "  'metadata': {'source': 'monthly_sales_data_with_stock_discount.xlsx',\n",
       "   'row_index': 2}},\n",
       " {'page_content': 'product_id: 4\\nproduct_name: Smart Doorbell\\ncategory: Electronics\\nquantity_sold: 5\\nprice: 149.99\\nquantity_in_stock: 15\\ndiscount: 20\\ndescription: Wi-Fi doorbell with 1080p camera and motion detection.',\n",
       "  'metadata': {'source': 'monthly_sales_data_with_stock_discount.xlsx',\n",
       "   'row_index': 3}},\n",
       " {'page_content': 'product_id: 5\\nproduct_name: Decorative Pillow\\ncategory: Home Decor\\nquantity_sold: 10\\nprice: 24.99\\nquantity_in_stock: 40\\ndiscount: 0\\ndescription: Soft cotton pillow with geometric pattern.',\n",
       "  'metadata': {'source': 'monthly_sales_data_with_stock_discount.xlsx',\n",
       "   'row_index': 4}},\n",
       " {'page_content': 'product_id: 6\\nproduct_name: Wireless Charger\\ncategory: Accessories\\nquantity_sold: 18\\nprice: 34.99\\nquantity_in_stock: 60\\ndiscount: 10\\ndescription: Fast-charging pad compatible with multiple devices.',\n",
       "  'metadata': {'source': 'monthly_sales_data_with_stock_discount.xlsx',\n",
       "   'row_index': 5}},\n",
       " {'page_content': 'product_id: 7\\nproduct_name: Coffee Maker\\ncategory: Electronics\\nquantity_sold: 7\\nprice: 69.99\\nquantity_in_stock: 25\\ndiscount: 5\\ndescription: Programmable 12-cup coffee maker with auto shut-off.',\n",
       "  'metadata': {'source': 'monthly_sales_data_with_stock_discount.xlsx',\n",
       "   'row_index': 6}},\n",
       " {'page_content': 'product_id: 8\\nproduct_name: Bookshelf\\ncategory: Furniture\\nquantity_sold: 4\\nprice: 199.99\\nquantity_in_stock: 10\\ndiscount: 15\\ndescription: Tall oak bookshelf with five adjustable shelves.',\n",
       "  'metadata': {'source': 'monthly_sales_data_with_stock_discount.xlsx',\n",
       "   'row_index': 7}},\n",
       " {'page_content': 'product_id: 9\\nproduct_name: Bluetooth Headset\\ncategory: Accessories\\nquantity_sold: 15\\nprice: 59.99\\nquantity_in_stock: 45\\ndiscount: 10\\ndescription: Lightweight headset with noise-canceling microphone.',\n",
       "  'metadata': {'source': 'monthly_sales_data_with_stock_discount.xlsx',\n",
       "   'row_index': 8}},\n",
       " {'page_content': 'product_id: 10\\nproduct_name: Wall Mirror\\ncategory: Home Decor\\nquantity_sold: 6\\nprice: 79.99\\nquantity_in_stock: 20\\ndiscount: 0\\ndescription: Large round mirror with sleek black frame.',\n",
       "  'metadata': {'source': 'monthly_sales_data_with_stock_discount.xlsx',\n",
       "   'row_index': 9}},\n",
       " {'page_content': 'product_id: 11\\nproduct_name: Gaming Console\\ncategory: Electronics\\nquantity_sold: 3\\nprice: 399.99\\nquantity_in_stock: 8\\ndiscount: 5\\ndescription: Next-gen console with 1TB storage and 4K gaming.',\n",
       "  'metadata': {'source': 'monthly_sales_data_with_stock_discount.xlsx',\n",
       "   'row_index': 10}},\n",
       " {'page_content': 'product_id: 12\\nproduct_name: Office Chair\\ncategory: Furniture\\nquantity_sold: 5\\nprice: 129.99\\nquantity_in_stock: 12\\ndiscount: 10\\ndescription: Ergonomic chair with adjustable lumbar support.',\n",
       "  'metadata': {'source': 'monthly_sales_data_with_stock_discount.xlsx',\n",
       "   'row_index': 11}},\n",
       " {'page_content': 'product_id: 13\\nproduct_name: USB-C Hub\\ncategory: Accessories\\nquantity_sold: 20\\nprice: 29.99\\nquantity_in_stock: 70\\ndiscount: 20\\ndescription: Multi-port hub with HDMI and USB 3.0.',\n",
       "  'metadata': {'source': 'monthly_sales_data_with_stock_discount.xlsx',\n",
       "   'row_index': 12}},\n",
       " {'page_content': 'product_id: 14\\nproduct_name: Ceramic Vase\\ncategory: Home Decor\\nquantity_sold: 8\\nprice: 44.99\\nquantity_in_stock: 25\\ndiscount: 0\\ndescription: Handcrafted vase with modern minimalist design.',\n",
       "  'metadata': {'source': 'monthly_sales_data_with_stock_discount.xlsx',\n",
       "   'row_index': 13}},\n",
       " {'page_content': 'product_id: 15\\nproduct_name: Portable Projector\\ncategory: Electronics\\nquantity_sold: 2\\nprice: 249.99\\nquantity_in_stock: 10\\ndiscount: 15\\ndescription: Compact 1080p projector with Wi-Fi streaming.',\n",
       "  'metadata': {'source': 'monthly_sales_data_with_stock_discount.xlsx',\n",
       "   'row_index': 14}}]"
      ]
     },
     "execution_count": 8,
     "metadata": {},
     "output_type": "execute_result"
    }
   ],
   "source": [
    "process_excel(\"data/monthly_sales_data_with_stock_discount.xlsx\")"
   ]
  }
 ],
 "metadata": {
  "kernelspec": {
   "display_name": "RAG ext",
   "language": "python",
   "name": "python3"
  },
  "language_info": {
   "codemirror_mode": {
    "name": "ipython",
    "version": 3
   },
   "file_extension": ".py",
   "mimetype": "text/x-python",
   "name": "python",
   "nbconvert_exporter": "python",
   "pygments_lexer": "ipython3",
   "version": "3.13.7"
  }
 },
 "nbformat": 4,
 "nbformat_minor": 5
}
