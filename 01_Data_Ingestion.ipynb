{
 "cells": [
  {
   "cell_type": "markdown",
   "id": "90b2c4e5",
   "metadata": {},
   "source": [
    "### DATA INGESTION - techniques"
   ]
  },
  {
   "cell_type": "markdown",
   "id": "75bd10dd",
   "metadata": {},
   "source": [
    "This notebook covers everything related to data ingestion, including loading, processing, and storing data from various sources. From basic text files to complex PDF's and data bases.'"
   ]
  },
  {
   "cell_type": "code",
   "execution_count": 1,
   "id": "708bfa60",
   "metadata": {},
   "outputs": [],
   "source": [
    "import os\n",
    "import langchain\n",
    "\n",
    "import pandas as pd\n",
    "from typing import List, Dict, Any"
   ]
  },
  {
   "cell_type": "code",
   "execution_count": 2,
   "id": "3cde6e02",
   "metadata": {},
   "outputs": [
    {
     "name": "stdout",
     "output_type": "stream",
     "text": [
      "Importing done\n"
     ]
    }
   ],
   "source": [
    "from langchain_core.documents import Document\n",
    "from langchain.text_splitter import RecursiveCharacterTextSplitter, CharacterTextSplitter, TokenTextSplitter\n",
    "\n",
    "print(\"Importing done\")"
   ]
  },
  {
   "cell_type": "markdown",
   "id": "0495b69c",
   "metadata": {},
   "source": [
    "###       Creating a simple document"
   ]
  },
  {
   "cell_type": "code",
   "execution_count": null,
   "id": "eb02429a",
   "metadata": {},
   "outputs": [
    {
     "name": "stdout",
     "output_type": "stream",
     "text": [
      "My Document Structure:\n",
      "Content: This is a simple sample document that will be used for testing. So stay tuned and follow my instructions.\n",
      "Metadata: {'source': 'example.txt', 'page': 1, 'author': 'Akarshan Kapoor', 'date_created': '2025-15-08'}\n"
     ]
    }
   ],
   "source": [
    "#1          Creating a simple document\n",
    "\n",
    "doc = Document(\n",
    "    page_content =\"This is a simple sample document that will be used for testing. So stay tuned and follow my instructions.\",\n",
    "    metadata={\n",
    "        \"source\":\"example.txt\",\n",
    "        \"page\":1,\n",
    "        \"author\":\"Akarshan Kapoor\",\n",
    "        \"date_created\":\"2025-15-08\"\n",
    "    }\n",
    ")\n",
    "\n",
    "print(\"My Document Structure:\")\n",
    "print(f\"Content: {doc.page_content}\")\n",
    "print(f\"Metadata: {doc.metadata}\")"
   ]
  },
  {
   "cell_type": "markdown",
   "id": "58cf1fb4",
   "metadata": {},
   "source": [
    "### Creating a simple text file"
   ]
  },
  {
   "cell_type": "code",
   "execution_count": null,
   "id": "fc58acec",
   "metadata": {},
   "outputs": [],
   "source": [
    "#2      Creating a simple text file\n",
    "\n",
    "import os\n",
    "os.makedirs(\"data/text_files\", exist_ok=True)\n"
   ]
  },
  {
   "cell_type": "code",
   "execution_count": 6,
   "id": "39b9d356",
   "metadata": {},
   "outputs": [
    {
     "name": "stdout",
     "output_type": "stream",
     "text": [
      "Sample text file created.\n"
     ]
    }
   ],
   "source": [
    "sample_text = {\n",
    "    \"data/text_files/india_independence.txt\": \n",
    "    \"\"\"\n",
    "India’s struggle for independence was long and challenging, spanning several decades of resistance against British colonial rule. The freedom movement included non-violent protests, civil disobedience, and mass movements led by iconic leaders such as Mahatma Gandhi, Jawaharlal Nehru, Sardar Vallabhbhai Patel, Bhagat Singh, Subhas Chandra Bose, and many others. The efforts of countless ordinary citizens—farmers, students, women, and workers—also played a crucial role.\n",
    "\n",
    "On 15th August 1947, India finally became a sovereign nation, ending centuries of foreign domination. Jawaharlal Nehru, the first Prime Minister, hoisted the national flag at the Red Fort in Delhi, inspiring the country with his speech, “Tryst with Destiny.”\n",
    "\n",
    "Today, Independence Day is celebrated across India with flag hoisting, parades, cultural programs, and patriotic events, honoring the sacrifices, unity, and resilience of those who fought for freedom. It is a day to remember the past, cherish democracy, and look forward to building a strong and progressive nation.\n",
    "    \"\"\"\n",
    "}\n",
    "\n",
    "# Write content to the file\n",
    "for filepath, content in sample_text.items():\n",
    "    with open(filepath, 'w', encoding=\"utf-8\") as f:\n",
    "        f.write(content)\n",
    "\n",
    "print(\"Sample text file created.\")\n"
   ]
  },
  {
   "cell_type": "markdown",
   "id": "a2e442eb",
   "metadata": {},
   "source": [
    "### Reading Single Text File (Text Loaders)"
   ]
  },
  {
   "cell_type": "code",
   "execution_count": null,
   "id": "77c77eb2",
   "metadata": {},
   "outputs": [
    {
     "name": "stdout",
     "output_type": "stream",
     "text": [
      "<class 'list'>\n",
      "[Document(metadata={'source': 'data/text_files/india_independence.txt'}, page_content='\\nIndia’s struggle for independence was long and challenging, spanning several decades of resistance against British colonial rule. The freedom movement included non-violent protests, civil disobedience, and mass movements led by iconic leaders such as Mahatma Gandhi, Jawaharlal Nehru, Sardar Vallabhbhai Patel, Bhagat Singh, Subhas Chandra Bose, and many others. The efforts of countless ordinary citizens—farmers, students, women, and workers—also played a crucial role.\\n\\nOn 15th August 1947, India finally became a sovereign nation, ending centuries of foreign domination. Jawaharlal Nehru, the first Prime Minister, hoisted the national flag at the Red Fort in Delhi, inspiring the country with his speech, “Tryst with Destiny.”\\n\\nToday, Independence Day is celebrated across India with flag hoisting, parades, cultural programs, and patriotic events, honoring the sacrifices, unity, and resilience of those who fought for freedom. It is a day to remember the past, cherish democracy, and look forward to building a strong and progressive nation.\\n    ')]\n",
      "Content:\n",
      "India’s struggle for independence was long and challenging, spanning several decades of resistance against British colonial rule. The freedom movement included non-violent protests, civil disobedience, and mass movements led by iconic leaders such as Mahatma Gandhi, Jawaharlal Nehru, Sardar Vallabhbhai Patel, Bhagat Singh, Subhas Chandra Bose, and many others. The efforts of countless ordinary citizens—farmers, students, women, and workers—also played a crucial role.\n",
      "\n",
      "On 15th August 1947, India finally became a sovereign nation, ending centuries of foreign domination. Jawaharlal Nehru, the first Prime Minister, hoisted the national flag at the Red Fort in Delhi, inspiring the country with his speech, “Tryst with Destiny.”\n",
      "\n",
      "Today, Independence Day is celebrated across India with flag hoisting, parades, cultural programs, and patriotic events, honoring the sacrifices, unity, and resilience of those who fought for freedom. It is a day to remember the past, cherish democracy, and look forward to building a strong and progressive nation.\n",
      "    \n",
      "Metadata:{'source': 'data/text_files/india_independence.txt'}\n",
      "Length of the document:1\n"
     ]
    }
   ],
   "source": [
    "# Text Loaders\n",
    "from langchain_community.document_loaders import TextLoader\n",
    "\n",
    "loader = TextLoader(\"data/text_files/india_independence.txt\", encoding=\"utf-8\")\n",
    "document = loader.load()\n",
    "\n",
    "print(type(document))\n",
    "print(document)\n",
    "print(f\"Content:{document[0].page_content}\")\n",
    "print(f\"Metadata:{document[0].metadata}\")\n",
    "print(f\"Length of the document:{len(document)}\")"
   ]
  },
  {
   "cell_type": "markdown",
   "id": "33ff820c",
   "metadata": {},
   "source": [
    "### Reading multiple text files from the Directory (DirectoryLoader)\n",
    "\n"
   ]
  },
  {
   "cell_type": "code",
   "execution_count": null,
   "id": "97a1182b",
   "metadata": {},
   "outputs": [
    {
     "name": "stdout",
     "output_type": "stream",
     "text": [
      "<class 'list'>\n",
      "Number of documents loaded: 1\n"
     ]
    }
   ],
   "source": [
    "from langchain_community.document_loaders import DirectoryLoader\n",
    "\n",
    "loader = DirectoryLoader(\n",
    "    \"data/text_files\",\n",
    "    glob=\"**/*.txt\", # pattern to match files **/*.txt\n",
    "    loader_cls=TextLoader,  # Use TextLoader\n",
    "    loader_kwargs={\"encoding\": \"utf-8\"}\n",
    ")\n",
    "documents = loader.load()\n",
    "\n",
    "print(type(documents))\n",
    "print(f\"Number of documents loaded: {len(documents)}\")"
   ]
  },
  {
   "cell_type": "markdown",
   "id": "dd642be5",
   "metadata": {},
   "source": [
    "### Text Splitting Methods"
   ]
  },
  {
   "cell_type": "markdown",
   "id": "c0410c57",
   "metadata": {},
   "source": [
    "#### 🔹 1. Character-based Splitters\n",
    "\n",
    "Split text into chunks based on a fixed character length.\n",
    "\n",
    "Can include some overlap between chunks to preserve context.\n",
    "\n",
    "Example: Splitting a 10,000-character document into 1,000-character chunks with 200-character overlap.\n",
    "\n",
    "👉 Libraries: CharacterTextSplitter (LangChain)."
   ]
  },
  {
   "cell_type": "code",
   "execution_count": 15,
   "id": "634cbb19",
   "metadata": {},
   "outputs": [
    {
     "data": {
      "text/plain": [
       "'\\nIndia’s struggle for independence was long and challenging, spanning several decades of resistance against British colonial rule. The freedom movement included non-violent protests, civil disobedience, and mass movements led by iconic leaders such as Mahatma Gandhi, Jawaharlal Nehru, Sardar Vallabhbhai Patel, Bhagat Singh, Subhas Chandra Bose, and many others. The efforts of countless ordinary citizens—farmers, students, women, and workers—also played a crucial role.\\n\\nOn 15th August 1947, India finally became a sovereign nation, ending centuries of foreign domination. Jawaharlal Nehru, the first Prime Minister, hoisted the national flag at the Red Fort in Delhi, inspiring the country with his speech, “Tryst with Destiny.”\\n\\nToday, Independence Day is celebrated across India with flag hoisting, parades, cultural programs, and patriotic events, honoring the sacrifices, unity, and resilience of those who fought for freedom. It is a day to remember the past, cherish democracy, and look forward to building a strong and progressive nation.\\n    '"
      ]
     },
     "execution_count": 15,
     "metadata": {},
     "output_type": "execute_result"
    }
   ],
   "source": [
    "text = document[0].page_content\n",
    "text"
   ]
  },
  {
   "cell_type": "code",
   "execution_count": 18,
   "id": "96f348df",
   "metadata": {},
   "outputs": [
    {
     "name": "stdout",
     "output_type": "stream",
     "text": [
      "1. Character Text Splitter\n",
      "Number of chunks created: 3\n",
      "India’s struggle for independence was long and challenging, spanning several decades of resistance against British colonial rule. The freedom movement included non-violent protests, civil disobedience, and mass movements led by iconic leaders such as Mahatma Gandhi, Jawaharlal Nehru, Sardar Vallabhbhai Patel, Bhagat Singh, Subhas Chandra Bose, and many others. The efforts of countless ordinary citizens—farmers, students, women, and workers—also played a crucial role.\n",
      "On 15th August 1947, India finally became a sovereign nation, ending centuries of foreign domination. Jawaharlal Nehru, the first Prime Minister, hoisted the national flag at the Red Fort in Delhi, inspiring the country with his speech, “Tryst with Destiny.”\n",
      "Today, Independence Day is celebrated across India with flag hoisting, parades, cultural programs, and patriotic events, honoring the sacrifices, unity, and resilience of those who fought for freedom. It is a day to remember the past, cherish democracy, and look forward to building a strong and progressive nation.\n"
     ]
    }
   ],
   "source": [
    "print(\"1. Character Text Splitter\")\n",
    "char_splitter =CharacterTextSplitter(\n",
    "    separator=\"\\n\", # Split on newline\n",
    "    chunk_size=500, # Chunk size of 500 characters\n",
    "    chunk_overlap=20, # Overlap of 20 characters between chunks\n",
    "    length_function=len # how to measure chunk size\n",
    ")\n",
    "\n",
    "char_chunks = char_splitter.split_text(text)\n",
    "\n",
    "print(f\"Number of chunks created: {len(char_chunks)}\")  \n",
    "print(char_chunks[0])  # Print the first chunk\n",
    "print(char_chunks[1])  # Print the second chunk \n",
    "print(char_chunks[2])  # Print the third chunk"
   ]
  },
  {
   "cell_type": "markdown",
   "id": "d7b9c580",
   "metadata": {},
   "source": [
    "🔹 2. Recursive Splitters\n",
    "\n",
    "Splits text hierarchically based on priority:\n",
    "\n",
    "Paragraphs → 2. Sentences → 3. Words → 4. Characters.\n",
    "\n",
    "Tries to create chunks without breaking semantic meaning.\n",
    "\n",
    "Best for preserving readability and context.\n",
    "\n",
    "👉 Libraries: RecursiveCharacterTextSplitter (LangChain)."
   ]
  },
  {
   "cell_type": "code",
   "execution_count": 21,
   "id": "6faa32cc",
   "metadata": {},
   "outputs": [
    {
     "name": "stdout",
     "output_type": "stream",
     "text": [
      "Recursive Character Text Splitter\n",
      "Number of chunks created: 3\n",
      "Chunk 1:'India’s struggle for independence was long and challenging, spanning several decades of resistance against British colonial rule. The freedom movement included non-violent protests, civil disobedience, and mass movements led by iconic leaders such as Mahatma Gandhi, Jawaharlal Nehru, Sardar Vallabhbhai Patel, Bhagat Singh, Subhas Chandra Bose, and many others. The efforts of countless ordinary citizens—farmers, students, women, and workers—also played a crucial role.'\n",
      "Chunk 2:'On 15th August 1947, India finally became a sovereign nation, ending centuries of foreign domination. Jawaharlal Nehru, the first Prime Minister, hoisted the national flag at the Red Fort in Delhi, inspiring the country with his speech, “Tryst with Destiny.”'\n",
      "\n",
      "Chunk 2:'On 15th August 1947, India finally became a sovereign nation, ending centuries of foreign domination. Jawaharlal Nehru, the first Prime Minister, hoisted the national flag at the Red Fort in Delhi, inspiring the country with his speech, “Tryst with Destiny.”'\n",
      "Chunk 3:'Today, Independence Day is celebrated across India with flag hoisting, parades, cultural programs, and patriotic events, honoring the sacrifices, unity, and resilience of those who fought for freedom. It is a day to remember the past, cherish democracy, and look forward to building a strong and progressive nation.'\n",
      "\n"
     ]
    }
   ],
   "source": [
    "print(\"Recursive Character Text Splitter\")\n",
    "recursive_char_splitter = RecursiveCharacterTextSplitter(\n",
    "    separators=[\"\\n\\n\", \"\\n\", \" \", \"\"],\n",
    "    chunk_size=500,\n",
    "    chunk_overlap=20,\n",
    "    length_function=len\n",
    ")\n",
    "\n",
    "recursive_chunks = recursive_char_splitter.split_text(text)\n",
    "\n",
    "print(f\"Number of chunks created: {len(recursive_chunks)}\")\n",
    "\n",
    "for i in range(len(recursive_chunks)-1):\n",
    "    print(f\"Chunk {i+1}:'{recursive_chunks[i]}'\")\n",
    "    print(f\"Chunk {i+2}:'{recursive_chunks[i+1]}'\")\n",
    "    print()"
   ]
  },
  {
   "cell_type": "markdown",
   "id": "4f114e4a",
   "metadata": {},
   "source": [
    "🔹 3. Token-based Splitters\n",
    "\n",
    "Splits based on LLM tokens (not characters).\n",
    "\n",
    "Ensures that chunk size aligns with the model’s tokenization.\n",
    "\n",
    "Useful because tokens ≠ characters (e.g., \"chatGPT\" → 2 tokens).\n",
    "\n",
    "👉 Libraries: TokenTextSplitter in LangChain (uses model-specific tokenizer like OpenAI tiktoken)."
   ]
  },
  {
   "cell_type": "code",
   "execution_count": 23,
   "id": "df0cb7d3",
   "metadata": {},
   "outputs": [
    {
     "name": "stdout",
     "output_type": "stream",
     "text": [
      "Token Text Splitters\n",
      "Number of chunks created: 2\n",
      "Chunk 1:'\n",
      "India’s struggle for independence was long and challenging, spanning several decades of resistance against British colonial rule. The freedom movement included non-violent protests, civil disobedience, and mass movements led by iconic leaders such as Mahatma Gandhi, Jawaharlal Nehru, Sardar Vallabhbhai Patel, Bhagat Singh, Subhas Chandra Bose, and many others. The efforts of countless ordinary citizens—farmers, students, women, and workers—also played a crucial role.\n",
      "\n",
      "On 15th August 1947, India finally became a sovereign nation, ending centuries of foreign domination. Jawaharlal Nehru, the first Prime Minister, hoisted the national flag at the Red Fort in Delhi, inspiring the country with his speech, “Tryst with Destiny.”\n",
      "\n",
      "Today, Independence Day is celebrated across India with flag hoisting, parades, cultural programs, and patriotic events, honoring the sacrifices, unity, and resilience of those who'\n",
      "Chunk 2:'ades, cultural programs, and patriotic events, honoring the sacrifices, unity, and resilience of those who fought for freedom. It is a day to remember the past, cherish democracy, and look forward to building a strong and progressive nation.\n",
      "    '\n",
      "\n"
     ]
    }
   ],
   "source": [
    "print(\"Token Text Splitters\")\n",
    "token_splitter = TokenTextSplitter(\n",
    "    chunk_size=200,\n",
    "    chunk_overlap=20,\n",
    "    length_function=len\n",
    ")\n",
    "\n",
    "token_chunks = token_splitter.split_text(text)\n",
    "\n",
    "print(f\"Number of chunks created: {len(token_chunks)}\")\n",
    "\n",
    "for i in range(len(token_chunks)-1):\n",
    "    print(f\"Chunk {i+1}:'{token_chunks[i]}'\")\n",
    "    print(f\"Chunk {i+2}:'{token_chunks[i+1]}'\")\n",
    "    print()"
   ]
  }
 ],
 "metadata": {
  "kernelspec": {
   "display_name": "RAG ext",
   "language": "python",
   "name": "python3"
  },
  "language_info": {
   "codemirror_mode": {
    "name": "ipython",
    "version": 3
   },
   "file_extension": ".py",
   "mimetype": "text/x-python",
   "name": "python",
   "nbconvert_exporter": "python",
   "pygments_lexer": "ipython3",
   "version": "3.13.7"
  }
 },
 "nbformat": 4,
 "nbformat_minor": 5
}
