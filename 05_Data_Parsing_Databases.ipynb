{
 "cells": [
  {
   "cell_type": "markdown",
   "id": "1e839f1d",
   "metadata": {},
   "source": [
    "### SQL Databases "
   ]
  },
  {
   "cell_type": "code",
   "execution_count": 1,
   "id": "d1fbc9b1",
   "metadata": {},
   "outputs": [],
   "source": [
    "\n",
    "## create sample SQLite Database\n",
    "import sqlite3\n",
    "import os\n",
    "\n",
    "os.makedirs(\"data/databases\",exist_ok=True)"
   ]
  },
  {
   "cell_type": "code",
   "execution_count": 2,
   "id": "ca719406",
   "metadata": {},
   "outputs": [],
   "source": [
    "## create sample database\n",
    "conn=sqlite3.connect('data/databases/company.db')\n",
    "cursor=conn.cursor()"
   ]
  },
  {
   "cell_type": "code",
   "execution_count": 3,
   "id": "6f130aa1",
   "metadata": {},
   "outputs": [
    {
     "data": {
      "text/plain": [
       "<sqlite3.Cursor at 0x11eb525f740>"
      ]
     },
     "execution_count": 3,
     "metadata": {},
     "output_type": "execute_result"
    }
   ],
   "source": [
    "# Create tables\n",
    "cursor.execute('''CREATE TABLE IF NOT EXISTS employees\n",
    "                 (id INTEGER PRIMARY KEY, name TEXT, role TEXT, department TEXT, salary REAL)''')"
   ]
  },
  {
   "cell_type": "code",
   "execution_count": 4,
   "id": "10716ab4",
   "metadata": {},
   "outputs": [
    {
     "data": {
      "text/plain": [
       "<sqlite3.Cursor at 0x11eb525f740>"
      ]
     },
     "execution_count": 4,
     "metadata": {},
     "output_type": "execute_result"
    }
   ],
   "source": [
    "cursor.execute('''CREATE TABLE IF NOT EXISTS projects\n",
    "                 (id INTEGER PRIMARY KEY, name TEXT, status TEXT, budget REAL, lead_id INTEGER)''')"
   ]
  },
  {
   "cell_type": "code",
   "execution_count": 5,
   "id": "e14fb9e2",
   "metadata": {},
   "outputs": [],
   "source": [
    "# Insert sample data\n",
    "employees = [\n",
    "    (1, 'Akarshan Kapoor', 'Data Scientist', 'Analytics', 120000),\n",
    "    (2, 'Priya Mehta', 'Machine Learning Engineer', 'AI Research', 115000),\n",
    "    (3, 'Rohan Verma', 'Business Analyst', 'Product Strategy', 90000),\n",
    "    (4, 'Ananya Sharma', 'Data Engineer', 'Engineering', 102000),\n",
    "    (5, 'Vikram Singh', 'Senior Data Scientist', 'Advanced Analytics', 135000),\n",
    "    (6, 'Neha Gupta', 'AI Research Scientist', 'AI Research', 125000),\n",
    "    (7, 'Siddharth Jain', 'Data Analyst', 'Analytics', 85000),\n",
    "    (8, 'Isha Kapoor', 'Machine Learning Engineer', 'AI Research', 110000),\n",
    "    (9, 'Arjun Rao', 'Business Intelligence Analyst', 'Analytics', 95000),\n",
    "    (10, 'Kavita Nair', 'Senior Data Engineer', 'Engineering', 130000)\n",
    "]\n",
    "\n",
    "projects = [\n",
    "    (1, 'Fraud Detection System', 'Active', 300000, 1),\n",
    "    (2, 'Customer Churn Prediction', 'Completed', 180000, 2),\n",
    "    (3, 'Credit Risk Modeling', 'Active', 250000, 5),\n",
    "    (4, 'Recommendation Engine', 'Planning', 200000, 1),\n",
    "    (5, 'Sales Forecasting Dashboard', 'Completed', 150000, 3),\n",
    "    (6, 'RAG Chatbot Implementation', 'Active', 350000, 2),\n",
    "    (7, 'Time Series Energy Forecast', 'Completed', 220000, 6),\n",
    "    (8, 'Image Classification Model', 'Active', 300000, 8),\n",
    "    (9, 'Customer Segmentation Analysis', 'Planning', 180000, 7),\n",
    "    (10, 'AI-based Maintenance Scheduler', 'Active', 400000, 10)\n",
    "]\n"
   ]
  },
  {
   "cell_type": "code",
   "execution_count": 6,
   "id": "6fd2a2b9",
   "metadata": {},
   "outputs": [
    {
     "data": {
      "text/plain": [
       "<sqlite3.Cursor at 0x11eb525f740>"
      ]
     },
     "execution_count": 6,
     "metadata": {},
     "output_type": "execute_result"
    }
   ],
   "source": [
    "cursor.executemany('INSERT OR REPLACE INTO employees VALUES (?,?,?,?,?)', employees)\n",
    "cursor.executemany('INSERT OR REPLACE INTO projects VALUES (?,?,?,?,?)', projects)"
   ]
  },
  {
   "cell_type": "code",
   "execution_count": 7,
   "id": "74f1c5df",
   "metadata": {},
   "outputs": [
    {
     "data": {
      "text/plain": [
       "<sqlite3.Cursor at 0x11eb525f740>"
      ]
     },
     "execution_count": 7,
     "metadata": {},
     "output_type": "execute_result"
    }
   ],
   "source": [
    "cursor.execute(\"SELECT * FROM employees\")"
   ]
  },
  {
   "cell_type": "code",
   "execution_count": 8,
   "id": "2261436a",
   "metadata": {},
   "outputs": [],
   "source": [
    "conn.commit()\n",
    "conn.close()\n"
   ]
  },
  {
   "cell_type": "markdown",
   "id": "e881dee1",
   "metadata": {},
   "source": [
    "## Database Content Extraction"
   ]
  },
  {
   "cell_type": "code",
   "execution_count": 9,
   "id": "63e2701e",
   "metadata": {},
   "outputs": [],
   "source": [
    "from langchain_community.utilities import SQLDatabase\n",
    "from langchain_community.document_loaders import SQLDatabaseLoader"
   ]
  },
  {
   "cell_type": "code",
   "execution_count": 10,
   "id": "80e27881",
   "metadata": {},
   "outputs": [
    {
     "name": "stdout",
     "output_type": "stream",
     "text": [
      "\n",
      " ✅ SQLDatabase Utility\n",
      "Tables: ['employees', 'projects']\n",
      "\n",
      "Table DDL:\n",
      "\n",
      "CREATE TABLE employees (\n",
      "\tid INTEGER, \n",
      "\tname TEXT, \n",
      "\trole TEXT, \n",
      "\tdepartment TEXT, \n",
      "\tsalary REAL, \n",
      "\tPRIMARY KEY (id)\n",
      ")\n",
      "\n",
      "/*\n",
      "3 rows from employees table:\n",
      "id\tname\trole\tdepartment\tsalary\n",
      "1\tAkarshan Kapoor\tData Scientist\tAnalytics\t120000.0\n",
      "2\tPriya Mehta\tMachine Learning Engineer\tAI Research\t115000.0\n",
      "3\tRohan Verma\tBusiness Analyst\tProduct Strategy\t90000.0\n",
      "*/\n",
      "\n",
      "\n",
      "CREATE TABLE projects (\n",
      "\tid INTEGER, \n",
      "\tname TEXT, \n",
      "\tstatus TEXT, \n",
      "\tbudget REAL, \n",
      "\tlead_id INTEGER, \n",
      "\tPRIMARY KEY (id)\n",
      ")\n",
      "\n",
      "/*\n",
      "3 rows from projects table:\n",
      "id\tname\tstatus\tbudget\tlead_id\n",
      "1\tFraud Detection System\tActive\t300000.0\t1\n",
      "2\tCustomer Churn Prediction\tCompleted\t180000.0\t2\n",
      "3\tCredit Risk Modeling\tActive\t250000.0\t5\n",
      "*/\n"
     ]
    }
   ],
   "source": [
    "## Method 1: SQLDATABASE Utility\n",
    "print(\"\\n ✅ SQLDatabase Utility\")\n",
    "db = SQLDatabase.from_uri(\"sqlite:///data/databases/company.db\")\n",
    "\n",
    "## get Database info\n",
    "print(f\"Tables: {db.get_usable_table_names()}\")\n",
    "print(f\"\\nTable DDL:\")\n",
    "print(db.get_table_info())"
   ]
  },
  {
   "cell_type": "code",
   "execution_count": 11,
   "id": "e432666b",
   "metadata": {},
   "outputs": [],
   "source": [
    "## Method 2: Custom SQL to Document conversion\n",
    "\n",
    "from typing import List\n",
    "from langchain_core.documents import Document"
   ]
  },
  {
   "cell_type": "code",
   "execution_count": 12,
   "id": "8338e6e8",
   "metadata": {},
   "outputs": [
    {
     "name": "stdout",
     "output_type": "stream",
     "text": [
      "\n",
      " ✅ Custom SQL Processing\n"
     ]
    }
   ],
   "source": [
    "print(\"\\n ✅ Custom SQL Processing\")\n",
    "\n",
    "def sql_to_documents(db_path:str)-> List[Document]:\n",
    "    \"\"\"Convert SQL Database To documents with context\"\"\"\n",
    "    conn=sqlite3.connect(db_path)\n",
    "    cursor=conn.cursor()\n",
    "    documents=[]\n",
    "    # Strategy 1: Create documents for each table\n",
    "    cursor.execute(\"SELECT name FROM sqlite_master WHERE type='table';\")\n",
    "    tables = cursor.fetchall()\n",
    "\n",
    "    for table in tables:\n",
    "        table_name = table[0]\n",
    "        \n",
    "        # Get table schema\n",
    "        cursor.execute(f\"PRAGMA table_info({table_name});\")\n",
    "        columns = cursor.fetchall()\n",
    "        column_names = [col[1] for col in columns]\n",
    "        \n",
    "        # Get table data\n",
    "        cursor.execute(f\"SELECT * FROM {table_name}\")\n",
    "        rows = cursor.fetchall()\n",
    "        \n",
    "        # Create table overview document\n",
    "        table_content = f\"Table: {table_name}\\n\"\n",
    "        table_content += f\"Columns: {', '.join(column_names)}\\n\"\n",
    "        table_content += f\"Total Records: {len(rows)}\\n\\n\"\n",
    "        \n",
    "        # Add sample records\n",
    "        table_content += \"Sample Records:\\n\"\n",
    "        for row in rows[:5]:  # First 5 records\n",
    "            record = dict(zip(column_names, row))\n",
    "            table_content += f\"{record}\\n\"\n",
    "        \n",
    "        doc = Document(\n",
    "            page_content=table_content,\n",
    "            metadata={\n",
    "                'source': db_path,\n",
    "                'table_name': table_name,\n",
    "                'num_records': len(rows),\n",
    "                'data_type': 'sql_table'\n",
    "            }\n",
    "        )\n",
    "        documents.append(doc)\n",
    "\n",
    "     # Strategy 2: Create relationship documents\n",
    "    # Example: Join employees and projects\n",
    "    cursor.execute(\"\"\"\n",
    "        SELECT e.name, e.role, p.name as project_name, p.status\n",
    "        FROM employees e\n",
    "        JOIN projects p ON e.id = p.lead_id\n",
    "    \"\"\")\n",
    "    \n",
    "    relationships = cursor.fetchall()\n",
    "    rel_content = \"Employee-Project Relationships:\\n\\n\"\n",
    "    for rel in relationships:\n",
    "        rel_content += f\"{rel[0]} ({rel[1]}) leads {rel[2]} - Status: {rel[3]}\\n\"\n",
    "    \n",
    "    rel_doc = Document(\n",
    "        page_content=rel_content,\n",
    "        metadata={\n",
    "            'source': db_path,\n",
    "            'data_type': 'sql_relationships',\n",
    "            'query': 'employee_project_join'\n",
    "        }\n",
    "    )\n",
    "    documents.append(rel_doc)\n",
    "    \n",
    "    conn.close()\n",
    "    return documents"
   ]
  },
  {
   "cell_type": "code",
   "execution_count": 13,
   "id": "4852924b",
   "metadata": {},
   "outputs": [
    {
     "data": {
      "text/plain": [
       "[Document(metadata={'source': 'data/databases/company.db', 'table_name': 'employees', 'num_records': 10, 'data_type': 'sql_table'}, page_content=\"Table: employees\\nColumns: id, name, role, department, salary\\nTotal Records: 10\\n\\nSample Records:\\n{'id': 1, 'name': 'Akarshan Kapoor', 'role': 'Data Scientist', 'department': 'Analytics', 'salary': 120000.0}\\n{'id': 2, 'name': 'Priya Mehta', 'role': 'Machine Learning Engineer', 'department': 'AI Research', 'salary': 115000.0}\\n{'id': 3, 'name': 'Rohan Verma', 'role': 'Business Analyst', 'department': 'Product Strategy', 'salary': 90000.0}\\n{'id': 4, 'name': 'Ananya Sharma', 'role': 'Data Engineer', 'department': 'Engineering', 'salary': 102000.0}\\n{'id': 5, 'name': 'Vikram Singh', 'role': 'Senior Data Scientist', 'department': 'Advanced Analytics', 'salary': 135000.0}\\n\"),\n",
       " Document(metadata={'source': 'data/databases/company.db', 'table_name': 'projects', 'num_records': 10, 'data_type': 'sql_table'}, page_content=\"Table: projects\\nColumns: id, name, status, budget, lead_id\\nTotal Records: 10\\n\\nSample Records:\\n{'id': 1, 'name': 'Fraud Detection System', 'status': 'Active', 'budget': 300000.0, 'lead_id': 1}\\n{'id': 2, 'name': 'Customer Churn Prediction', 'status': 'Completed', 'budget': 180000.0, 'lead_id': 2}\\n{'id': 3, 'name': 'Credit Risk Modeling', 'status': 'Active', 'budget': 250000.0, 'lead_id': 5}\\n{'id': 4, 'name': 'Recommendation Engine', 'status': 'Planning', 'budget': 200000.0, 'lead_id': 1}\\n{'id': 5, 'name': 'Sales Forecasting Dashboard', 'status': 'Completed', 'budget': 150000.0, 'lead_id': 3}\\n\"),\n",
       " Document(metadata={'source': 'data/databases/company.db', 'data_type': 'sql_relationships', 'query': 'employee_project_join'}, page_content='Employee-Project Relationships:\\n\\nAkarshan Kapoor (Data Scientist) leads Fraud Detection System - Status: Active\\nPriya Mehta (Machine Learning Engineer) leads Customer Churn Prediction - Status: Completed\\nVikram Singh (Senior Data Scientist) leads Credit Risk Modeling - Status: Active\\nAkarshan Kapoor (Data Scientist) leads Recommendation Engine - Status: Planning\\nRohan Verma (Business Analyst) leads Sales Forecasting Dashboard - Status: Completed\\nPriya Mehta (Machine Learning Engineer) leads RAG Chatbot Implementation - Status: Active\\nNeha Gupta (AI Research Scientist) leads Time Series Energy Forecast - Status: Completed\\nIsha Kapoor (Machine Learning Engineer) leads Image Classification Model - Status: Active\\nSiddharth Jain (Data Analyst) leads Customer Segmentation Analysis - Status: Planning\\nKavita Nair (Senior Data Engineer) leads AI-based Maintenance Scheduler - Status: Active\\n')]"
      ]
     },
     "execution_count": 13,
     "metadata": {},
     "output_type": "execute_result"
    }
   ],
   "source": [
    "sql_to_documents(\"data/databases/company.db\")"
   ]
  }
 ],
 "metadata": {
  "kernelspec": {
   "display_name": "RAG ext",
   "language": "python",
   "name": "python3"
  },
  "language_info": {
   "codemirror_mode": {
    "name": "ipython",
    "version": 3
   },
   "file_extension": ".py",
   "mimetype": "text/x-python",
   "name": "python",
   "nbconvert_exporter": "python",
   "pygments_lexer": "ipython3",
   "version": "3.13.7"
  }
 },
 "nbformat": 4,
 "nbformat_minor": 5
}
