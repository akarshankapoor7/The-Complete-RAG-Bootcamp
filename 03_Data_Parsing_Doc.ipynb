{
 "cells": [
  {
   "cell_type": "markdown",
   "id": "587af540",
   "metadata": {},
   "source": [
    "### Word Document Processing\n"
   ]
  },
  {
   "cell_type": "code",
   "execution_count": 1,
   "id": "e1a5cbf9",
   "metadata": {},
   "outputs": [],
   "source": [
    "from langchain_community.document_loaders import Docx2txtLoader, UnstructuredWordDocumentLoader"
   ]
  },
  {
   "cell_type": "markdown",
   "id": "802b27b6",
   "metadata": {},
   "source": [
    "1 *  Docx2txtLoader (word2text loader) → Fast, simple plain-text extraction (best for quick preprocessing)."
   ]
  },
  {
   "cell_type": "code",
   "execution_count": 3,
   "id": "5e161df1",
   "metadata": {},
   "outputs": [
    {
     "name": "stdout",
     "output_type": "stream",
     "text": [
      "Docx2txtLoader\n",
      "✅ Loaded 1 documents\n",
      "Content Preview: Job Description – Data Scientist\n",
      "\n",
      "Company: AXVG Pvt. Ltd.\n",
      "Location: Delhi\n",
      "Employment Type: Full-Time\n",
      "\n",
      "\n",
      "\n",
      "About AXVG\n",
      "\n",
      "AXVG is a forward-thinking technology and analytics company, committed to solving real-world business problems using data-driven decision-making. We leverage AI, machine learning, and advanced analytics to optimize operations, enhance customer experiences, and create innovative products.\n",
      "\n",
      "\n",
      "\n",
      "Role Overview\n",
      "\n",
      "We are seeking a Data Scientist who is passionate about extracting insights f\n",
      "Metadata: {'source': 'data/Job Description.docx'}\n"
     ]
    }
   ],
   "source": [
    "# Method 1: Using Docx2txtLoader\n",
    "print(\"Docx2txtLoader\")\n",
    "\n",
    "try:\n",
    "    docx_loader = Docx2txtLoader(\"data/Job Description.docx\")\n",
    "    docx_documents = docx_loader.load()\n",
    "    print(f\"✅ Loaded {len(docx_documents)} documents\")\n",
    "    print(f\"Content Preview: {docx_documents[0].page_content[:500]}\")\n",
    "    print(f\"Metadata: {docx_documents[0].metadata}\")\n",
    "except Exception as e:\n",
    "    print(f\"Error loading document: {e}\")"
   ]
  },
  {
   "cell_type": "markdown",
   "id": "ec225019",
   "metadata": {},
   "source": [
    "2 * UnstructuredWordDocumentLoader → Rich, structured extraction with metadata (best for intelligent pipelines)."
   ]
  },
  {
   "cell_type": "code",
   "execution_count": 6,
   "id": "825b4da9",
   "metadata": {},
   "outputs": [
    {
     "name": "stdout",
     "output_type": "stream",
     "text": [
      "UnstructuredWordDocumentLoader\n",
      "✅ Loaded 34 documents\n",
      "Document 1 Preview: Job Description – Data Scientist\n",
      "Metadata: UncategorizedText\n",
      "Document 2 Preview: Company: AXVG Pvt. Ltd.\n",
      "Location: Delhi\n",
      "Employment Type: Full-Time\n",
      "Metadata: NarrativeText\n",
      "Document 3 Preview: About AXVG\n",
      "Metadata: UncategorizedText\n",
      "Content Preview: Job Description – Data Scientist\n",
      "Metadata: {'source': 'data/Job Description.docx', 'category_depth': 0, 'emphasized_text_contents': ['Job Description – Data Scientist'], 'emphasized_text_tags': ['b'], 'file_directory': 'data', 'filename': 'Job Description.docx', 'last_modified': '2025-08-25T01:46:59', 'page_number': 1, 'languages': ['eng'], 'filetype': 'application/vnd.openxmlformats-officedocument.wordprocessingml.document', 'category': 'UncategorizedText', 'element_id': '351e478b06a946e7b8d4c049d665e816'}\n"
     ]
    }
   ],
   "source": [
    "# Method 2: Using UnstructuredWordDocumentLoader\n",
    "print(\"UnstructuredWordDocumentLoader\")\n",
    "\n",
    "try:\n",
    "    unstructured_loader = UnstructuredWordDocumentLoader(\"data/Job Description.docx\", mode=\"elements\")\n",
    "    unstructured_documents = unstructured_loader.load()\n",
    "    print(f\"✅ Loaded {len(unstructured_documents)} documents\")\n",
    "    for i, doc in enumerate(unstructured_documents[0:3]):\n",
    "        print(f\"Document {i + 1} Preview: {doc.page_content[:500]}\")\n",
    "        print(f\"Metadata: {doc.metadata.get('category','title')}\")\n",
    "    print(f\"Content Preview: {unstructured_documents[0].page_content[:500]}\")\n",
    "    print(f\"Metadata: {unstructured_documents[0].metadata}\")\n",
    "except Exception as e:\n",
    "    print(f\"Error loading document: {e}\")\n"
   ]
  },
  {
   "cell_type": "code",
   "execution_count": null,
   "id": "428e5bc6",
   "metadata": {},
   "outputs": [],
   "source": []
  }
 ],
 "metadata": {
  "kernelspec": {
   "display_name": "RAG ext",
   "language": "python",
   "name": "python3"
  },
  "language_info": {
   "codemirror_mode": {
    "name": "ipython",
    "version": 3
   },
   "file_extension": ".py",
   "mimetype": "text/x-python",
   "name": "python",
   "nbconvert_exporter": "python",
   "pygments_lexer": "ipython3",
   "version": "3.13.7"
  }
 },
 "nbformat": 4,
 "nbformat_minor": 5
}
